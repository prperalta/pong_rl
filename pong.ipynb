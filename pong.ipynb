{
 "cells": [
  {
   "cell_type": "code",
   "execution_count": 1,
   "id": "0db3af55-f5a7-43cf-b343-1335b21d08e9",
   "metadata": {},
   "outputs": [
    {
     "name": "stdout",
     "output_type": "stream",
     "text": [
      "Requirement already satisfied: gymnasium[atari] in c:\\users\\paolo\\anaconda3\\lib\\site-packages (0.29.1)\n",
      "Requirement already satisfied: numpy>=1.21.0 in c:\\users\\paolo\\anaconda3\\lib\\site-packages (from gymnasium[atari]) (1.24.3)\n",
      "Requirement already satisfied: cloudpickle>=1.2.0 in c:\\users\\paolo\\anaconda3\\lib\\site-packages (from gymnasium[atari]) (2.2.1)\n",
      "Requirement already satisfied: typing-extensions>=4.3.0 in c:\\users\\paolo\\anaconda3\\lib\\site-packages (from gymnasium[atari]) (4.10.0)\n",
      "Requirement already satisfied: farama-notifications>=0.0.1 in c:\\users\\paolo\\anaconda3\\lib\\site-packages (from gymnasium[atari]) (0.0.4)\n",
      "Requirement already satisfied: shimmy[atari]<1.0,>=0.1.0 in c:\\users\\paolo\\anaconda3\\lib\\site-packages (from gymnasium[atari]) (0.2.1)\n",
      "Requirement already satisfied: ale-py~=0.8.1 in c:\\users\\paolo\\anaconda3\\lib\\site-packages (from shimmy[atari]<1.0,>=0.1.0->gymnasium[atari]) (0.8.1)\n",
      "Requirement already satisfied: importlib-resources in c:\\users\\paolo\\anaconda3\\lib\\site-packages (from ale-py~=0.8.1->shimmy[atari]<1.0,>=0.1.0->gymnasium[atari]) (6.4.0)\n",
      "Requirement already satisfied: autorom[accept-rom-license] in c:\\users\\paolo\\anaconda3\\lib\\site-packages (0.6.1)\n",
      "Requirement already satisfied: click in c:\\users\\paolo\\anaconda3\\lib\\site-packages (from autorom[accept-rom-license]) (8.0.4)\n",
      "Requirement already satisfied: requests in c:\\users\\paolo\\anaconda3\\lib\\site-packages (from autorom[accept-rom-license]) (2.31.0)\n",
      "Requirement already satisfied: AutoROM.accept-rom-license in c:\\users\\paolo\\anaconda3\\lib\\site-packages (from autorom[accept-rom-license]) (0.6.1)\n",
      "Requirement already satisfied: colorama in c:\\users\\paolo\\anaconda3\\lib\\site-packages (from click->autorom[accept-rom-license]) (0.4.6)\n",
      "Requirement already satisfied: charset-normalizer<4,>=2 in c:\\users\\paolo\\anaconda3\\lib\\site-packages (from requests->autorom[accept-rom-license]) (2.0.4)\n",
      "Requirement already satisfied: idna<4,>=2.5 in c:\\users\\paolo\\anaconda3\\lib\\site-packages (from requests->autorom[accept-rom-license]) (3.4)\n",
      "Requirement already satisfied: urllib3<3,>=1.21.1 in c:\\users\\paolo\\anaconda3\\lib\\site-packages (from requests->autorom[accept-rom-license]) (1.26.16)\n",
      "Requirement already satisfied: certifi>=2017.4.17 in c:\\users\\paolo\\anaconda3\\lib\\site-packages (from requests->autorom[accept-rom-license]) (2023.7.22)\n"
     ]
    }
   ],
   "source": [
    "!pip install gymnasium[atari]\n",
    "!pip install autorom[accept-rom-license]"
   ]
  },
  {
   "cell_type": "code",
   "execution_count": 2,
   "id": "7ea1d8d9-aefb-428a-9a08-c9fbc9af77a7",
   "metadata": {
    "tags": []
   },
   "outputs": [],
   "source": [
    "import gymnasium as gym\n",
    "import torch\n",
    "import torch.nn as nn\n",
    "import torch.nn.functional as F\n"
   ]
  },
  {
   "cell_type": "code",
   "execution_count": 6,
   "id": "bf476335-57ab-46ec-adc6-79fab69e78e7",
   "metadata": {
    "tags": []
   },
   "outputs": [],
   "source": [
    "env = gym.make('ALE/Pong-v5', obs_type='grayscale')"
   ]
  },
  {
   "cell_type": "code",
   "execution_count": 7,
   "id": "e20ee527-8ff5-4eb2-84ad-4aaac10cc456",
   "metadata": {
    "tags": []
   },
   "outputs": [],
   "source": [
    "f, b = env.reset()"
   ]
  },
  {
   "cell_type": "code",
   "execution_count": 10,
   "id": "faba99f0-34a7-4b40-a394-633709d40830",
   "metadata": {
    "tags": []
   },
   "outputs": [
    {
     "ename": "ModuleNotFoundError",
     "evalue": "No module named 'torchvision'",
     "output_type": "error",
     "traceback": [
      "\u001b[1;31m---------------------------------------------------------------------------\u001b[0m",
      "\u001b[1;31mModuleNotFoundError\u001b[0m                       Traceback (most recent call last)",
      "Cell \u001b[1;32mIn[10], line 1\u001b[0m\n\u001b[1;32m----> 1\u001b[0m \u001b[38;5;28;01mimport\u001b[39;00m \u001b[38;5;21;01mtorchvision\u001b[39;00m\u001b[38;5;21;01m.\u001b[39;00m\u001b[38;5;21;01mtransforms\u001b[39;00m \u001b[38;5;28;01mas\u001b[39;00m \u001b[38;5;21;01mtransforms\u001b[39;00m \n\u001b[0;32m      3\u001b[0m \u001b[38;5;66;03m# create an transform for crop the image \u001b[39;00m\n\u001b[0;32m      4\u001b[0m transform \u001b[38;5;241m=\u001b[39m transforms\u001b[38;5;241m.\u001b[39mCenterCrop(\u001b[38;5;241m200\u001b[39m)\n",
      "\u001b[1;31mModuleNotFoundError\u001b[0m: No module named 'torchvision'"
     ]
    }
   ],
   "source": [
    "\n",
    "# create an transform for crop the image \n",
    "transform = transforms.CenterCrop(84) "
   ]
  },
  {
   "cell_type": "code",
   "execution_count": 4,
   "id": "3571bacc-4ab3-4696-a594-396d71d39a9f",
   "metadata": {},
   "outputs": [],
   "source": [
    "class DQN(nn.Module):\n",
    "    #first hidden layer 16 8x8 filters with stride 4. apply rectifier non linearity after (relu)\n",
    "    #second layer 32 4x4 filer with stride 2, rectifier non linearity after (relu)\n",
    "    #final layer, fully connected and consists of 256 rectifier unit\n",
    "    #output layer fully connected layer with a single output for each valid action. \n",
    "    \n",
    "    #[(W−K+2P)/S]+1\n",
    "    # floor((84 - 8)/4) + 1\n",
    "    # floor((20 - 4)/2) + 1 \n",
    "    \n",
    "    def __init__(self, img):\n",
    "        self.conv1 = nn.Conv2d(in_channels=4, out_channels=16, kernel_size=8, stride=4)\n",
    "        self.conv2 = nn.Conv2d(in_channels=16, out_channels=32, kernel_size=4, stride=2)\n",
    "        #flatten layer 2\n",
    "        self.fc_layer = nn.Linear(2592,256)\n",
    "        #flatten layer 3\n",
    "        self.output_layer = nn.Linear(256,4)\n",
    "        \n",
    "        \n",
    "    def forward(self, x):\n",
    "        x = self.conv1(x)\n",
    "        x = F.relu(x)\n",
    "        x = self.conv2(x)\n",
    "        x = F.relu(x)\n",
    "        x = torch.flatten(x,1)\n",
    "        x = fc_layer(x)\n",
    "        x = output_layer(x)\n",
    "    \n",
    "        return x"
   ]
  },
  {
   "cell_type": "code",
   "execution_count": null,
   "id": "457412f0-1975-43b3-8d70-3c3a0d095363",
   "metadata": {},
   "outputs": [],
   "source": [
    "#function phi -> 84x84x4 image\n"
   ]
  },
  {
   "cell_type": "code",
   "execution_count": null,
   "id": "1384e434-40c5-42b3-8d61-6deab2329287",
   "metadata": {},
   "outputs": [],
   "source": [
    "#learning algorithm\n",
    "#initialize replay memory D\n",
    "#initialize dqn\n",
    "#for each episode\n",
    "    # initialize sequence s1 = {x1} and phi(s1)\n",
    "    # for t=1, T di\n",
    "        # with probability epsilon select a random action at\n",
    "        # otherwise select argmax a Q*(phi(st), a)\n",
    "        # execute action a in emulateor and observe reward r_t and image x_t+1\n",
    "        # add a_t and x_t+1 to sequence\n",
    "        # store transition tuple (phi_t, a_t, r_t, phi_t+1) in D\n",
    "        # Sample random minibatch of transitions from D\n",
    "        # Perform gradient descent\n"
   ]
  },
  {
   "cell_type": "code",
   "execution_count": null,
   "id": "0bfb0552-1dea-45e7-b8eb-806ed5d36f0b",
   "metadata": {},
   "outputs": [],
   "source": []
  }
 ],
 "metadata": {
  "kernelspec": {
   "display_name": "Python 3 (ipykernel)",
   "language": "python",
   "name": "python3"
  },
  "language_info": {
   "codemirror_mode": {
    "name": "ipython",
    "version": 3
   },
   "file_extension": ".py",
   "mimetype": "text/x-python",
   "name": "python",
   "nbconvert_exporter": "python",
   "pygments_lexer": "ipython3",
   "version": "3.11.4"
  }
 },
 "nbformat": 4,
 "nbformat_minor": 5
}
